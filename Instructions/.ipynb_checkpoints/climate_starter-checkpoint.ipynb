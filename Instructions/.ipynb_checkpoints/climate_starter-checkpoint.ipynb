{
 "cells": [
  {
   "cell_type": "code",
   "execution_count": 1,
   "metadata": {},
   "outputs": [],
   "source": [
    "%matplotlib inline\n",
    "from matplotlib import style\n",
    "style.use('fivethirtyeight')\n",
    "import matplotlib.pyplot as plt"
   ]
  },
  {
   "cell_type": "code",
   "execution_count": 2,
   "metadata": {},
   "outputs": [],
   "source": [
    "import numpy as np\n",
    "import pandas as pd"
   ]
  },
  {
   "cell_type": "code",
   "execution_count": 3,
   "metadata": {},
   "outputs": [],
   "source": [
    "import datetime as dt"
   ]
  },
  {
   "cell_type": "markdown",
   "metadata": {},
   "source": [
    "# Reflect Tables into SQLAlchemy ORM"
   ]
  },
  {
   "cell_type": "code",
   "execution_count": 4,
   "metadata": {},
   "outputs": [],
   "source": [
    "# Python SQL toolkit and Object Relational Mapper\n",
    "import sqlalchemy\n",
    "from sqlalchemy.ext.automap import automap_base\n",
    "from sqlalchemy.orm import Session\n",
    "from sqlalchemy import create_engine, func"
   ]
  },
  {
   "cell_type": "code",
   "execution_count": 5,
   "metadata": {},
   "outputs": [],
   "source": [
    "engine = create_engine(\"sqlite:///Resources/hawaii.sqlite\")"
   ]
  },
  {
   "cell_type": "code",
   "execution_count": 6,
   "metadata": {},
   "outputs": [],
   "source": [
    "# reflect an existing database into a new model\n",
    "Base = automap_base()\n",
    "# reflect the tables\n",
    "Base.prepare(engine, reflect=True)"
   ]
  },
  {
   "cell_type": "code",
   "execution_count": 7,
   "metadata": {},
   "outputs": [
    {
     "data": {
      "text/plain": [
       "['measurement', 'station']"
      ]
     },
     "execution_count": 7,
     "metadata": {},
     "output_type": "execute_result"
    }
   ],
   "source": [
    "# We can view all of the classes that automap found\n",
    "Base.classes.keys()"
   ]
  },
  {
   "cell_type": "code",
   "execution_count": 8,
   "metadata": {},
   "outputs": [],
   "source": [
    "# Save references to each table\n",
    "Measurement = Base.classes.measurement\n",
    "Station = Base.classes.station"
   ]
  },
  {
   "cell_type": "code",
   "execution_count": 9,
   "metadata": {},
   "outputs": [],
   "source": [
    "# Create our session (link) from Python to the DB\n",
    "session = Session(engine)"
   ]
  },
  {
   "cell_type": "markdown",
   "metadata": {},
   "source": [
    "# Exploratory Climate Analysis"
   ]
  },
  {
   "cell_type": "code",
   "execution_count": 10,
   "metadata": {},
   "outputs": [],
   "source": [
    "# Design a query to retrieve the last 12 months of precipitation data and plot the results\n",
    "\n",
    "# Calculate the date 1 year ago from the last data point in the database\n",
    "\n",
    "# Perform a query to retrieve the data and precipitation scores\n",
    "\n",
    "# Save the query results as a Pandas DataFrame and set the index to the date column\n",
    "\n",
    "# Sort the dataframe by date\n",
    "\n",
    "# Use Pandas Plotting with Matplotlib to plot the data\n"
   ]
  },
  {
   "cell_type": "code",
   "execution_count": 11,
   "metadata": {},
   "outputs": [
    {
     "data": {
      "text/plain": [
       "('2017-08-23')"
      ]
     },
     "execution_count": 11,
     "metadata": {},
     "output_type": "execute_result"
    }
   ],
   "source": [
    "session.query(Measurement.date).order_by(Measurement.date.desc()).first()"
   ]
  },
  {
   "cell_type": "code",
   "execution_count": 12,
   "metadata": {},
   "outputs": [
    {
     "name": "stdout",
     "output_type": "stream",
     "text": [
      "2016-08-23 00:00:00\n"
     ]
    }
   ],
   "source": [
    "year_ago = dt.datetime(2017, 8, 23) - dt.timedelta(days=365)\n",
    "print(year_ago)"
   ]
  },
  {
   "cell_type": "code",
   "execution_count": 13,
   "metadata": {},
   "outputs": [],
   "source": [
    "result = session.query(Measurement.date, Measurement.prcp)\\\n",
    ".filter(Measurement.date >= year_ago)"
   ]
  },
  {
   "cell_type": "code",
   "execution_count": 14,
   "metadata": {},
   "outputs": [
    {
     "data": {
      "text/html": [
       "<div>\n",
       "<style scoped>\n",
       "    .dataframe tbody tr th:only-of-type {\n",
       "        vertical-align: middle;\n",
       "    }\n",
       "\n",
       "    .dataframe tbody tr th {\n",
       "        vertical-align: top;\n",
       "    }\n",
       "\n",
       "    .dataframe thead th {\n",
       "        text-align: right;\n",
       "    }\n",
       "</style>\n",
       "<table border=\"1\" class=\"dataframe\">\n",
       "  <thead>\n",
       "    <tr style=\"text-align: right;\">\n",
       "      <th></th>\n",
       "      <th>prcp</th>\n",
       "    </tr>\n",
       "    <tr>\n",
       "      <th>date</th>\n",
       "      <th></th>\n",
       "    </tr>\n",
       "  </thead>\n",
       "  <tbody>\n",
       "    <tr>\n",
       "      <th>2016-08-24</th>\n",
       "      <td>0.08</td>\n",
       "    </tr>\n",
       "    <tr>\n",
       "      <th>2016-08-24</th>\n",
       "      <td>NaN</td>\n",
       "    </tr>\n",
       "    <tr>\n",
       "      <th>2016-08-24</th>\n",
       "      <td>2.15</td>\n",
       "    </tr>\n",
       "    <tr>\n",
       "      <th>2016-08-24</th>\n",
       "      <td>2.28</td>\n",
       "    </tr>\n",
       "    <tr>\n",
       "      <th>2016-08-24</th>\n",
       "      <td>2.15</td>\n",
       "    </tr>\n",
       "  </tbody>\n",
       "</table>\n",
       "</div>"
      ],
      "text/plain": [
       "            prcp\n",
       "date            \n",
       "2016-08-24  0.08\n",
       "2016-08-24   NaN\n",
       "2016-08-24  2.15\n",
       "2016-08-24  2.28\n",
       "2016-08-24  2.15"
      ]
     },
     "execution_count": 14,
     "metadata": {},
     "output_type": "execute_result"
    }
   ],
   "source": [
    "df = pd.DataFrame(result)\n",
    "df_index = df.set_index('date')\n",
    "df_sort = df_index.sort_values('date')\n",
    "df_sort.head()"
   ]
  },
  {
   "cell_type": "code",
   "execution_count": 15,
   "metadata": {},
   "outputs": [
    {
     "data": {
      "image/png": "[encoded data removed]",
      "text/plain": [
       "<Figure size 432x288 with 1 Axes>"
      ]
     },
     "metadata": {
      "needs_background": "light"
     },
     "output_type": "display_data"
    }
   ],
   "source": [
    "df_sort.plot(kind=\"bar\", grid=True)\n",
    "\n",
    "plt.title(\"Precipitation in Hawaii\")\n",
    "plt.ylabel(\"Precipitation\")\n",
    "plt.xlabel(\"Date\")\n",
    "plt.legend([\"Precipitation\"])\n",
    "plt.xticks([])\n",
    "\n",
    "plt.show()"
   ]
  },
  {
   "cell_type": "markdown",
   "metadata": {},
   "source": [
    "![precipitation](Images/precipitation.png)"
   ]
  },
  {
   "cell_type": "code",
   "execution_count": 16,
   "metadata": {},
   "outputs": [
    {
     "data": {
      "text/html": [
       "<div>\n",
       "<style scoped>\n",
       "    .dataframe tbody tr th:only-of-type {\n",
       "        vertical-align: middle;\n",
       "    }\n",
       "\n",
       "    .dataframe tbody tr th {\n",
       "        vertical-align: top;\n",
       "    }\n",
       "\n",
       "    .dataframe thead th {\n",
       "        text-align: right;\n",
       "    }\n",
       "</style>\n",
       "<table border=\"1\" class=\"dataframe\">\n",
       "  <thead>\n",
       "    <tr style=\"text-align: right;\">\n",
       "      <th></th>\n",
       "      <th>prcp</th>\n",
       "    </tr>\n",
       "  </thead>\n",
       "  <tbody>\n",
       "    <tr>\n",
       "      <th>count</th>\n",
       "      <td>2015.000000</td>\n",
       "    </tr>\n",
       "    <tr>\n",
       "      <th>mean</th>\n",
       "      <td>0.176462</td>\n",
       "    </tr>\n",
       "    <tr>\n",
       "      <th>std</th>\n",
       "      <td>0.460288</td>\n",
       "    </tr>\n",
       "    <tr>\n",
       "      <th>min</th>\n",
       "      <td>0.000000</td>\n",
       "    </tr>\n",
       "    <tr>\n",
       "      <th>25%</th>\n",
       "      <td>0.000000</td>\n",
       "    </tr>\n",
       "    <tr>\n",
       "      <th>50%</th>\n",
       "      <td>0.020000</td>\n",
       "    </tr>\n",
       "    <tr>\n",
       "      <th>75%</th>\n",
       "      <td>0.130000</td>\n",
       "    </tr>\n",
       "    <tr>\n",
       "      <th>max</th>\n",
       "      <td>6.700000</td>\n",
       "    </tr>\n",
       "  </tbody>\n",
       "</table>\n",
       "</div>"
      ],
      "text/plain": [
       "              prcp\n",
       "count  2015.000000\n",
       "mean      0.176462\n",
       "std       0.460288\n",
       "min       0.000000\n",
       "25%       0.000000\n",
       "50%       0.020000\n",
       "75%       0.130000\n",
       "max       6.700000"
      ]
     },
     "execution_count": 16,
     "metadata": {},
     "output_type": "execute_result"
    }
   ],
   "source": [
    "df_sort.describe()"
   ]
  },
  {
   "cell_type": "code",
   "execution_count": 17,
   "metadata": {},
   "outputs": [],
   "source": [
    "# Use Pandas to calcualte the summary statistics for the precipitation data"
   ]
  },
  {
   "cell_type": "markdown",
   "metadata": {},
   "source": [
    "![describe](Images/describe.png)"
   ]
  },
  {
   "cell_type": "code",
   "execution_count": 18,
   "metadata": {},
   "outputs": [],
   "source": [
    "# Design a query to show how many stations are available in this dataset?"
   ]
  },
  {
   "cell_type": "code",
   "execution_count": 19,
   "metadata": {},
   "outputs": [
    {
     "data": {
      "text/plain": [
       "9"
      ]
     },
     "execution_count": 19,
     "metadata": {},
     "output_type": "execute_result"
    }
   ],
   "source": [
    "session.query(Station.station).count()"
   ]
  },
  {
   "cell_type": "code",
   "execution_count": 20,
   "metadata": {},
   "outputs": [],
   "source": [
    "# What are the most active stations? (i.e. what stations have the most rows)?\n",
    "# List the stations and the counts in descending order."
   ]
  },
  {
   "cell_type": "code",
   "execution_count": 21,
   "metadata": {},
   "outputs": [
    {
     "data": {
      "text/plain": [
       "[('USC00519281', 2772),\n",
       " ('USC00519397', 2724),\n",
       " ('USC00513117', 2709),\n",
       " ('USC00519523', 2669),\n",
       " ('USC00516128', 2612),\n",
       " ('USC00514830', 2202),\n",
       " ('USC00511918', 1979),\n",
       " ('USC00517948', 1372),\n",
       " ('USC00518838', 511)]"
      ]
     },
     "execution_count": 21,
     "metadata": {},
     "output_type": "execute_result"
    }
   ],
   "source": [
    "stations = session.query(Measurement.station, func.count(Measurement.station))\\\n",
    ".group_by(Measurement.station)\\\n",
    ".order_by(func.count(Measurement.station).desc()).all()\n",
    "stations"
   ]
  },
  {
   "cell_type": "code",
   "execution_count": 22,
   "metadata": {},
   "outputs": [],
   "source": [
    "# Using the station id from the previous query, calculate the lowest temperature recorded, \n",
    "# highest temperature recorded, and average temperature most active station?"
   ]
  },
  {
   "cell_type": "code",
   "execution_count": 23,
   "metadata": {},
   "outputs": [
    {
     "data": {
      "text/plain": [
       "[('USC00519281', 85.0, 54.0, 71.66378066378067)]"
      ]
     },
     "execution_count": 23,
     "metadata": {},
     "output_type": "execute_result"
    }
   ],
   "source": [
    "temp = session.query(Measurement.station, func.max(Measurement.tobs), func.min(Measurement.tobs), func.avg(Measurement.tobs))\\\n",
    ".group_by(Measurement.station)\\\n",
    ".filter(Measurement.station == 'USC00519281').all()\n",
    "temp"
   ]
  },
  {
   "cell_type": "code",
   "execution_count": 24,
   "metadata": {},
   "outputs": [],
   "source": [
    "# Choose the station with the highest number of temperature observations.\n",
    "# Query the last 12 months of temperature observation data for this station and plot the results as a histogram"
   ]
  },
  {
   "cell_type": "markdown",
   "metadata": {},
   "source": [
    "![precipitation](Images/station-histogram.png)"
   ]
  },
  {
   "cell_type": "code",
   "execution_count": 25,
   "metadata": {},
   "outputs": [
    {
     "data": {
      "text/plain": [
       "[('2016-08-24', 'USC00519281', 77.0),\n",
       " ('2016-08-25', 'USC00519281', 80.0),\n",
       " ('2016-08-26', 'USC00519281', 80.0),\n",
       " ('2016-08-27', 'USC00519281', 75.0),\n",
       " ('2016-08-28', 'USC00519281', 73.0),\n",
       " ('2016-08-29', 'USC00519281', 78.0),\n",
       " ('2016-08-30', 'USC00519281', 77.0),\n",
       " ('2016-08-31', 'USC00519281', 78.0),\n",
       " ('2016-09-01', 'USC00519281', 80.0),\n",
       " ('2016-09-02', 'USC00519281', 80.0),\n",
       " ('2016-09-03', 'USC00519281', 78.0),\n",
       " ('2016-09-04', 'USC00519281', 78.0),\n",
       " ('2016-09-05', 'USC00519281', 78.0),\n",
       " ('2016-09-06', 'USC00519281', 73.0),\n",
       " ('2016-09-07', 'USC00519281', 74.0),\n",
       " ('2016-09-08', 'USC00519281', 80.0),\n",
       " ('2016-09-09', 'USC00519281', 79.0),\n",
       " ('2016-09-10', 'USC00519281', 77.0),\n",
       " ('2016-09-11', 'USC00519281', 80.0),\n",
       " ('2016-09-12', 'USC00519281', 76.0),\n",
       " ('2016-09-13', 'USC00519281', 79.0),\n",
       " ('2016-09-14', 'USC00519281', 75.0),\n",
       " ('2016-09-15', 'USC00519281', 79.0),\n",
       " ('2016-09-16', 'USC00519281', 78.0),\n",
       " ('2016-09-17', 'USC00519281', 79.0),\n",
       " ('2016-09-18', 'USC00519281', 78.0),\n",
       " ('2016-09-19', 'USC00519281', 78.0),\n",
       " ('2016-09-20', 'USC00519281', 76.0),\n",
       " ('2016-09-21', 'USC00519281', 74.0),\n",
       " ('2016-09-22', 'USC00519281', 77.0),\n",
       " ('2016-09-23', 'USC00519281', 78.0),\n",
       " ('2016-09-24', 'USC00519281', 79.0),\n",
       " ('2016-09-25', 'USC00519281', 79.0),\n",
       " ('2016-09-26', 'USC00519281', 77.0),\n",
       " ('2016-09-27', 'USC00519281', 80.0),\n",
       " ('2016-09-28', 'USC00519281', 78.0),\n",
       " ('2016-09-29', 'USC00519281', 78.0),\n",
       " ('2016-09-30', 'USC00519281', 78.0),\n",
       " ('2016-10-01', 'USC00519281', 77.0),\n",
       " ('2016-10-02', 'USC00519281', 79.0),\n",
       " ('2016-10-03', 'USC00519281', 79.0),\n",
       " ('2016-10-04', 'USC00519281', 79.0),\n",
       " ('2016-10-05', 'USC00519281', 79.0),\n",
       " ('2016-10-06', 'USC00519281', 75.0),\n",
       " ('2016-10-07', 'USC00519281', 76.0),\n",
       " ('2016-10-08', 'USC00519281', 73.0),\n",
       " ('2016-10-09', 'USC00519281', 72.0),\n",
       " ('2016-10-10', 'USC00519281', 71.0),\n",
       " ('2016-10-11', 'USC00519281', 77.0),\n",
       " ('2016-10-12', 'USC00519281', 79.0),\n",
       " ('2016-10-13', 'USC00519281', 78.0),\n",
       " ('2016-10-14', 'USC00519281', 79.0),\n",
       " ('2016-10-15', 'USC00519281', 77.0),\n",
       " ('2016-10-16', 'USC00519281', 79.0),\n",
       " ('2016-10-17', 'USC00519281', 77.0),\n",
       " ('2016-10-18', 'USC00519281', 78.0),\n",
       " ('2016-10-19', 'USC00519281', 78.0),\n",
       " ('2016-10-20', 'USC00519281', 78.0),\n",
       " ('2016-10-21', 'USC00519281', 78.0),\n",
       " ('2016-10-22', 'USC00519281', 77.0),\n",
       " ('2016-10-23', 'USC00519281', 74.0),\n",
       " ('2016-10-24', 'USC00519281', 75.0),\n",
       " ('2016-10-25', 'USC00519281', 76.0),\n",
       " ('2016-10-26', 'USC00519281', 73.0),\n",
       " ('2016-10-27', 'USC00519281', 76.0),\n",
       " ('2016-10-28', 'USC00519281', 74.0),\n",
       " ('2016-10-29', 'USC00519281', 77.0),\n",
       " ('2016-10-30', 'USC00519281', 76.0),\n",
       " ('2016-10-31', 'USC00519281', 76.0),\n",
       " ('2016-11-01', 'USC00519281', 74.0),\n",
       " ('2016-11-02', 'USC00519281', 75.0),\n",
       " ('2016-11-03', 'USC00519281', 75.0),\n",
       " ('2016-11-04', 'USC00519281', 75.0),\n",
       " ('2016-11-05', 'USC00519281', 75.0),\n",
       " ('2016-11-06', 'USC00519281', 71.0),\n",
       " ('2016-11-07', 'USC00519281', 63.0),\n",
       " ('2016-11-08', 'USC00519281', 70.0),\n",
       " ('2016-11-09', 'USC00519281', 68.0),\n",
       " ('2016-11-10', 'USC00519281', 67.0),\n",
       " ('2016-11-11', 'USC00519281', 77.0),\n",
       " ('2016-11-12', 'USC00519281', 74.0),\n",
       " ('2016-11-13', 'USC00519281', 77.0),\n",
       " ('2016-11-14', 'USC00519281', 76.0),\n",
       " ('2016-11-15', 'USC00519281', 76.0),\n",
       " ('2016-11-16', 'USC00519281', 75.0),\n",
       " ('2016-11-17', 'USC00519281', 76.0),\n",
       " ('2016-11-18', 'USC00519281', 75.0),\n",
       " ('2016-11-19', 'USC00519281', 73.0),\n",
       " ('2016-11-20', 'USC00519281', 75.0),\n",
       " ('2016-11-21', 'USC00519281', 73.0),\n",
       " ('2016-11-22', 'USC00519281', 75.0),\n",
       " ('2016-11-23', 'USC00519281', 74.0),\n",
       " ('2016-11-24', 'USC00519281', 75.0),\n",
       " ('2016-11-25', 'USC00519281', 74.0),\n",
       " ('2016-11-26', 'USC00519281', 75.0),\n",
       " ('2016-11-27', 'USC00519281', 73.0),\n",
       " ('2016-11-28', 'USC00519281', 75.0),\n",
       " ('2016-11-29', 'USC00519281', 73.0),\n",
       " ('2016-11-30', 'USC00519281', 73.0),\n",
       " ('2016-12-01', 'USC00519281', 74.0),\n",
       " ('2016-12-02', 'USC00519281', 70.0),\n",
       " ('2016-12-03', 'USC00519281', 72.0),\n",
       " ('2016-12-04', 'USC00519281', 70.0),\n",
       " ('2016-12-05', 'USC00519281', 67.0),\n",
       " ('2016-12-06', 'USC00519281', 67.0),\n",
       " ('2016-12-07', 'USC00519281', 69.0),\n",
       " ('2016-12-08', 'USC00519281', 70.0),\n",
       " ('2016-12-09', 'USC00519281', 68.0),\n",
       " ('2016-12-10', 'USC00519281', 69.0),\n",
       " ('2016-12-11', 'USC00519281', 69.0),\n",
       " ('2016-12-12', 'USC00519281', 66.0),\n",
       " ('2016-12-13', 'USC00519281', 65.0),\n",
       " ('2016-12-14', 'USC00519281', 68.0),\n",
       " ('2016-12-15', 'USC00519281', 62.0),\n",
       " ('2016-12-16', 'USC00519281', 75.0),\n",
       " ('2016-12-17', 'USC00519281', 70.0),\n",
       " ('2016-12-18', 'USC00519281', 69.0),\n",
       " ('2016-12-19', 'USC00519281', 76.0),\n",
       " ('2016-12-20', 'USC00519281', 76.0),\n",
       " ('2016-12-21', 'USC00519281', 74.0),\n",
       " ('2016-12-22', 'USC00519281', 73.0),\n",
       " ('2016-12-23', 'USC00519281', 71.0),\n",
       " ('2016-12-24', 'USC00519281', 74.0),\n",
       " ('2016-12-25', 'USC00519281', 74.0),\n",
       " ('2016-12-26', 'USC00519281', 72.0),\n",
       " ('2016-12-27', 'USC00519281', 71.0),\n",
       " ('2016-12-28', 'USC00519281', 72.0),\n",
       " ('2016-12-29', 'USC00519281', 74.0),\n",
       " ('2016-12-30', 'USC00519281', 69.0),\n",
       " ('2016-12-31', 'USC00519281', 67.0),\n",
       " ('2017-01-01', 'USC00519281', 72.0),\n",
       " ('2017-01-02', 'USC00519281', 70.0),\n",
       " ('2017-01-03', 'USC00519281', 64.0),\n",
       " ('2017-01-04', 'USC00519281', 63.0),\n",
       " ('2017-01-05', 'USC00519281', 63.0),\n",
       " ('2017-01-06', 'USC00519281', 62.0),\n",
       " ('2017-01-07', 'USC00519281', 70.0),\n",
       " ('2017-01-08', 'USC00519281', 70.0),\n",
       " ('2017-01-09', 'USC00519281', 62.0),\n",
       " ('2017-01-10', 'USC00519281', 62.0),\n",
       " ('2017-01-11', 'USC00519281', 63.0),\n",
       " ('2017-01-12', 'USC00519281', 65.0),\n",
       " ('2017-01-13', 'USC00519281', 69.0),\n",
       " ('2017-01-14', 'USC00519281', 77.0),\n",
       " ('2017-01-15', 'USC00519281', 70.0),\n",
       " ('2017-01-16', 'USC00519281', 74.0),\n",
       " ('2017-01-17', 'USC00519281', 69.0),\n",
       " ('2017-01-18', 'USC00519281', 72.0),\n",
       " ('2017-01-19', 'USC00519281', 71.0),\n",
       " ('2017-01-20', 'USC00519281', 69.0),\n",
       " ('2017-01-21', 'USC00519281', 71.0),\n",
       " ('2017-01-22', 'USC00519281', 71.0),\n",
       " ('2017-01-23', 'USC00519281', 72.0),\n",
       " ('2017-01-24', 'USC00519281', 72.0),\n",
       " ('2017-01-25', 'USC00519281', 69.0),\n",
       " ('2017-01-26', 'USC00519281', 70.0),\n",
       " ('2017-01-27', 'USC00519281', 66.0),\n",
       " ('2017-01-28', 'USC00519281', 65.0),\n",
       " ('2017-01-29', 'USC00519281', 69.0),\n",
       " ('2017-01-30', 'USC00519281', 68.0),\n",
       " ('2017-01-31', 'USC00519281', 68.0),\n",
       " ('2017-02-01', 'USC00519281', 68.0),\n",
       " ('2017-02-02', 'USC00519281', 59.0),\n",
       " ('2017-02-03', 'USC00519281', 60.0),\n",
       " ('2017-02-04', 'USC00519281', 70.0),\n",
       " ('2017-02-05', 'USC00519281', 73.0),\n",
       " ('2017-02-06', 'USC00519281', 75.0),\n",
       " ('2017-02-07', 'USC00519281', 64.0),\n",
       " ('2017-02-08', 'USC00519281', 59.0),\n",
       " ('2017-02-09', 'USC00519281', 59.0),\n",
       " ('2017-02-10', 'USC00519281', 62.0),\n",
       " ('2017-02-11', 'USC00519281', 68.0),\n",
       " ('2017-02-12', 'USC00519281', 70.0),\n",
       " ('2017-02-13', 'USC00519281', 73.0),\n",
       " ('2017-02-14', 'USC00519281', 79.0),\n",
       " ('2017-02-15', 'USC00519281', 75.0),\n",
       " ('2017-02-16', 'USC00519281', 65.0),\n",
       " ('2017-02-17', 'USC00519281', 70.0),\n",
       " ('2017-02-18', 'USC00519281', 74.0),\n",
       " ('2017-02-19', 'USC00519281', 70.0),\n",
       " ('2017-02-20', 'USC00519281', 70.0),\n",
       " ('2017-02-21', 'USC00519281', 71.0),\n",
       " ('2017-02-22', 'USC00519281', 71.0),\n",
       " ('2017-02-23', 'USC00519281', 71.0),\n",
       " ('2017-02-24', 'USC00519281', 69.0),\n",
       " ('2017-02-25', 'USC00519281', 61.0),\n",
       " ('2017-02-26', 'USC00519281', 67.0),\n",
       " ('2017-02-27', 'USC00519281', 65.0),\n",
       " ('2017-02-28', 'USC00519281', 72.0),\n",
       " ('2017-03-01', 'USC00519281', 71.0),\n",
       " ('2017-03-02', 'USC00519281', 73.0),\n",
       " ('2017-03-03', 'USC00519281', 72.0),\n",
       " ('2017-03-04', 'USC00519281', 77.0),\n",
       " ('2017-03-05', 'USC00519281', 73.0),\n",
       " ('2017-03-06', 'USC00519281', 67.0),\n",
       " ('2017-03-07', 'USC00519281', 62.0),\n",
       " ('2017-03-08', 'USC00519281', 64.0),\n",
       " ('2017-03-09', 'USC00519281', 67.0),\n",
       " ('2017-03-10', 'USC00519281', 66.0),\n",
       " ('2017-03-11', 'USC00519281', 81.0),\n",
       " ('2017-03-12', 'USC00519281', 69.0),\n",
       " ('2017-03-13', 'USC00519281', 66.0),\n",
       " ('2017-03-14', 'USC00519281', 67.0),\n",
       " ('2017-03-15', 'USC00519281', 69.0),\n",
       " ('2017-03-16', 'USC00519281', 66.0),\n",
       " ('2017-03-17', 'USC00519281', 68.0),\n",
       " ('2017-03-18', 'USC00519281', 65.0),\n",
       " ('2017-03-19', 'USC00519281', 74.0),\n",
       " ('2017-03-20', 'USC00519281', 69.0),\n",
       " ('2017-03-21', 'USC00519281', 72.0),\n",
       " ('2017-03-22', 'USC00519281', 73.0),\n",
       " ('2017-03-23', 'USC00519281', 72.0),\n",
       " ('2017-03-24', 'USC00519281', 71.0),\n",
       " ('2017-03-25', 'USC00519281', 76.0),\n",
       " ('2017-03-26', 'USC00519281', 77.0),\n",
       " ('2017-03-27', 'USC00519281', 76.0),\n",
       " ('2017-03-28', 'USC00519281', 74.0),\n",
       " ('2017-03-29', 'USC00519281', 68.0),\n",
       " ('2017-03-30', 'USC00519281', 73.0),\n",
       " ('2017-03-31', 'USC00519281', 71.0),\n",
       " ('2017-04-01', 'USC00519281', 74.0),\n",
       " ('2017-04-02', 'USC00519281', 75.0),\n",
       " ('2017-04-03', 'USC00519281', 70.0),\n",
       " ('2017-04-04', 'USC00519281', 67.0),\n",
       " ('2017-04-05', 'USC00519281', 71.0),\n",
       " ('2017-04-06', 'USC00519281', 67.0),\n",
       " ('2017-04-07', 'USC00519281', 74.0),\n",
       " ('2017-04-08', 'USC00519281', 77.0),\n",
       " ('2017-04-09', 'USC00519281', 78.0),\n",
       " ('2017-04-10', 'USC00519281', 67.0),\n",
       " ('2017-04-11', 'USC00519281', 70.0),\n",
       " ('2017-04-12', 'USC00519281', 69.0),\n",
       " ('2017-04-13', 'USC00519281', 69.0),\n",
       " ('2017-04-14', 'USC00519281', 74.0),\n",
       " ('2017-04-15', 'USC00519281', 78.0),\n",
       " ('2017-04-16', 'USC00519281', 71.0),\n",
       " ('2017-04-17', 'USC00519281', 67.0),\n",
       " ('2017-04-18', 'USC00519281', 68.0),\n",
       " ('2017-04-19', 'USC00519281', 67.0),\n",
       " ('2017-04-20', 'USC00519281', 76.0),\n",
       " ('2017-04-21', 'USC00519281', 69.0),\n",
       " ('2017-04-22', 'USC00519281', 72.0),\n",
       " ('2017-04-23', 'USC00519281', 76.0),\n",
       " ('2017-04-24', 'USC00519281', 68.0),\n",
       " ('2017-04-25', 'USC00519281', 72.0),\n",
       " ('2017-04-26', 'USC00519281', 74.0),\n",
       " ('2017-04-27', 'USC00519281', 70.0),\n",
       " ('2017-04-28', 'USC00519281', 67.0),\n",
       " ('2017-04-29', 'USC00519281', 72.0),\n",
       " ('2017-04-30', 'USC00519281', 60.0),\n",
       " ('2017-05-01', 'USC00519281', 65.0),\n",
       " ('2017-05-02', 'USC00519281', 75.0),\n",
       " ('2017-05-03', 'USC00519281', 70.0),\n",
       " ('2017-05-04', 'USC00519281', 75.0),\n",
       " ('2017-05-05', 'USC00519281', 70.0),\n",
       " ('2017-05-06', 'USC00519281', 79.0),\n",
       " ('2017-05-07', 'USC00519281', 75.0),\n",
       " ('2017-05-08', 'USC00519281', 70.0),\n",
       " ('2017-05-09', 'USC00519281', 67.0),\n",
       " ('2017-05-10', 'USC00519281', 74.0),\n",
       " ('2017-05-11', 'USC00519281', 70.0),\n",
       " ('2017-05-12', 'USC00519281', 75.0),\n",
       " ('2017-05-13', 'USC00519281', 76.0),\n",
       " ('2017-05-14', 'USC00519281', 77.0),\n",
       " ('2017-05-15', 'USC00519281', 74.0),\n",
       " ('2017-05-16', 'USC00519281', 74.0),\n",
       " ('2017-05-17', 'USC00519281', 74.0),\n",
       " ('2017-05-18', 'USC00519281', 69.0),\n",
       " ('2017-05-19', 'USC00519281', 68.0),\n",
       " ('2017-05-20', 'USC00519281', 76.0),\n",
       " ('2017-05-21', 'USC00519281', 74.0),\n",
       " ('2017-05-22', 'USC00519281', 71.0),\n",
       " ('2017-05-23', 'USC00519281', 71.0),\n",
       " ('2017-05-24', 'USC00519281', 74.0),\n",
       " ('2017-05-25', 'USC00519281', 74.0),\n",
       " ('2017-05-26', 'USC00519281', 74.0),\n",
       " ('2017-05-27', 'USC00519281', 74.0),\n",
       " ('2017-05-28', 'USC00519281', 80.0),\n",
       " ('2017-05-29', 'USC00519281', 74.0),\n",
       " ('2017-05-30', 'USC00519281', 72.0),\n",
       " ('2017-05-31', 'USC00519281', 75.0),\n",
       " ('2017-06-01', 'USC00519281', 80.0),\n",
       " ('2017-06-02', 'USC00519281', 76.0),\n",
       " ('2017-06-03', 'USC00519281', 76.0),\n",
       " ('2017-06-04', 'USC00519281', 77.0),\n",
       " ('2017-06-05', 'USC00519281', 75.0),\n",
       " ('2017-06-06', 'USC00519281', 75.0),\n",
       " ('2017-06-07', 'USC00519281', 75.0),\n",
       " ('2017-06-08', 'USC00519281', 75.0),\n",
       " ('2017-06-09', 'USC00519281', 72.0),\n",
       " ('2017-06-10', 'USC00519281', 74.0),\n",
       " ('2017-06-11', 'USC00519281', 74.0),\n",
       " ('2017-06-12', 'USC00519281', 74.0),\n",
       " ('2017-06-13', 'USC00519281', 76.0),\n",
       " ('2017-06-14', 'USC00519281', 74.0),\n",
       " ('2017-06-15', 'USC00519281', 75.0),\n",
       " ('2017-06-16', 'USC00519281', 73.0),\n",
       " ('2017-06-17', 'USC00519281', 79.0),\n",
       " ('2017-06-18', 'USC00519281', 75.0),\n",
       " ('2017-06-19', 'USC00519281', 72.0),\n",
       " ('2017-06-20', 'USC00519281', 72.0),\n",
       " ('2017-06-21', 'USC00519281', 74.0),\n",
       " ('2017-06-22', 'USC00519281', 72.0),\n",
       " ('2017-06-23', 'USC00519281', 72.0),\n",
       " ('2017-06-24', 'USC00519281', 77.0),\n",
       " ('2017-06-25', 'USC00519281', 71.0),\n",
       " ('2017-06-26', 'USC00519281', 73.0),\n",
       " ('2017-06-27', 'USC00519281', 76.0),\n",
       " ('2017-06-28', 'USC00519281', 77.0),\n",
       " ('2017-06-29', 'USC00519281', 76.0),\n",
       " ('2017-06-30', 'USC00519281', 76.0),\n",
       " ('2017-07-01', 'USC00519281', 79.0),\n",
       " ('2017-07-02', 'USC00519281', 81.0),\n",
       " ('2017-07-03', 'USC00519281', 76.0),\n",
       " ('2017-07-04', 'USC00519281', 78.0),\n",
       " ('2017-07-05', 'USC00519281', 77.0),\n",
       " ('2017-07-06', 'USC00519281', 74.0),\n",
       " ('2017-07-07', 'USC00519281', 75.0),\n",
       " ('2017-07-08', 'USC00519281', 78.0),\n",
       " ('2017-07-09', 'USC00519281', 78.0),\n",
       " ('2017-07-10', 'USC00519281', 69.0),\n",
       " ('2017-07-11', 'USC00519281', 72.0),\n",
       " ('2017-07-12', 'USC00519281', 74.0),\n",
       " ('2017-07-13', 'USC00519281', 74.0),\n",
       " ('2017-07-14', 'USC00519281', 76.0),\n",
       " ('2017-07-15', 'USC00519281', 80.0),\n",
       " ('2017-07-16', 'USC00519281', 80.0),\n",
       " ('2017-07-17', 'USC00519281', 76.0),\n",
       " ('2017-07-18', 'USC00519281', 76.0),\n",
       " ('2017-07-19', 'USC00519281', 76.0),\n",
       " ('2017-07-20', 'USC00519281', 77.0),\n",
       " ('2017-07-21', 'USC00519281', 77.0),\n",
       " ('2017-07-22', 'USC00519281', 77.0),\n",
       " ('2017-07-23', 'USC00519281', 82.0),\n",
       " ('2017-07-24', 'USC00519281', 75.0),\n",
       " ('2017-07-25', 'USC00519281', 77.0),\n",
       " ('2017-07-26', 'USC00519281', 75.0),\n",
       " ('2017-07-27', 'USC00519281', 76.0),\n",
       " ('2017-07-28', 'USC00519281', 81.0),\n",
       " ('2017-07-29', 'USC00519281', 82.0),\n",
       " ('2017-07-30', 'USC00519281', 81.0),\n",
       " ('2017-07-31', 'USC00519281', 76.0),\n",
       " ('2017-08-04', 'USC00519281', 77.0),\n",
       " ('2017-08-05', 'USC00519281', 82.0),\n",
       " ('2017-08-06', 'USC00519281', 83.0),\n",
       " ('2017-08-13', 'USC00519281', 77.0),\n",
       " ('2017-08-14', 'USC00519281', 77.0),\n",
       " ('2017-08-15', 'USC00519281', 77.0),\n",
       " ('2017-08-16', 'USC00519281', 76.0),\n",
       " ('2017-08-17', 'USC00519281', 76.0),\n",
       " ('2017-08-18', 'USC00519281', 79.0)]"
      ]
     },
     "execution_count": 25,
     "metadata": {},
     "output_type": "execute_result"
    }
   ],
   "source": [
    "active_station = session.query(Measurement.date, Measurement.station, Measurement.tobs)\\\n",
    ".filter(Measurement.station == 'USC00519281')\\\n",
    ".filter(Measurement.date >= year_ago).all()\n",
    "\n",
    "active_station"
   ]
  },
  {
   "cell_type": "code",
   "execution_count": 26,
   "metadata": {},
   "outputs": [
    {
     "data": {
      "text/html": [
       "<div>\n",
       "<style scoped>\n",
       "    .dataframe tbody tr th:only-of-type {\n",
       "        vertical-align: middle;\n",
       "    }\n",
       "\n",
       "    .dataframe tbody tr th {\n",
       "        vertical-align: top;\n",
       "    }\n",
       "\n",
       "    .dataframe thead th {\n",
       "        text-align: right;\n",
       "    }\n",
       "</style>\n",
       "<table border=\"1\" class=\"dataframe\">\n",
       "  <thead>\n",
       "    <tr style=\"text-align: right;\">\n",
       "      <th></th>\n",
       "      <th>date</th>\n",
       "      <th>station</th>\n",
       "      <th>tobs</th>\n",
       "    </tr>\n",
       "  </thead>\n",
       "  <tbody>\n",
       "    <tr>\n",
       "      <th>0</th>\n",
       "      <td>2016-08-24</td>\n",
       "      <td>USC00519281</td>\n",
       "      <td>77.0</td>\n",
       "    </tr>\n",
       "    <tr>\n",
       "      <th>1</th>\n",
       "      <td>2016-08-25</td>\n",
       "      <td>USC00519281</td>\n",
       "      <td>80.0</td>\n",
       "    </tr>\n",
       "    <tr>\n",
       "      <th>2</th>\n",
       "      <td>2016-08-26</td>\n",
       "      <td>USC00519281</td>\n",
       "      <td>80.0</td>\n",
       "    </tr>\n",
       "    <tr>\n",
       "      <th>3</th>\n",
       "      <td>2016-08-27</td>\n",
       "      <td>USC00519281</td>\n",
       "      <td>75.0</td>\n",
       "    </tr>\n",
       "    <tr>\n",
       "      <th>4</th>\n",
       "      <td>2016-08-28</td>\n",
       "      <td>USC00519281</td>\n",
       "      <td>73.0</td>\n",
       "    </tr>\n",
       "  </tbody>\n",
       "</table>\n",
       "</div>"
      ],
      "text/plain": [
       "         date      station  tobs\n",
       "0  2016-08-24  USC00519281  77.0\n",
       "1  2016-08-25  USC00519281  80.0\n",
       "2  2016-08-26  USC00519281  80.0\n",
       "3  2016-08-27  USC00519281  75.0\n",
       "4  2016-08-28  USC00519281  73.0"
      ]
     },
     "execution_count": 26,
     "metadata": {},
     "output_type": "execute_result"
    }
   ],
   "source": [
    "df_active = pd.DataFrame(active_station)\n",
    "df_active.head()"
   ]
  },
  {
   "cell_type": "code",
   "execution_count": 27,
   "metadata": {},
   "outputs": [],
   "source": [
    "df_temp = df_active[\"tobs\"]"
   ]
  },
  {
   "cell_type": "code",
   "execution_count": 28,
   "metadata": {},
   "outputs": [
    {
     "data": {
      "text/plain": [
       "<matplotlib.legend.Legend at 0x11c726f98>"
      ]
     },
     "execution_count": 28,
     "metadata": {},
     "output_type": "execute_result"
    },
    {
     "data": {
      "image/png": "[encoded data removed]",
      "text/plain": [
       "<Figure size 432x288 with 1 Axes>"
      ]
     },
     "metadata": {
      "needs_background": "light"
     },
     "output_type": "display_data"
    }
   ],
   "source": [
    "df_temp.hist(bins=12)\n",
    "plt.title(\"Temperature Observations\")\n",
    "plt.ylabel(\"Frequency\")\n",
    "plt.xlabel(\"Temperature\")\n",
    "plt.legend([\"tobs\"])"
   ]
  },
  {
   "cell_type": "code",
   "execution_count": 29,
   "metadata": {},
   "outputs": [
    {
     "name": "stdout",
     "output_type": "stream",
     "text": [
      "[(62.0, 69.57142857142857, 74.0)]\n"
     ]
    }
   ],
   "source": [
    "# This function called `calc_temps` will accept start date and end date in the format '%Y-%m-%d' \n",
    "# and return the minimum, average, and maximum temperatures for that range of dates\n",
    "def calc_temps(start_date, end_date):\n",
    "    \"\"\"TMIN, TAVG, and TMAX for a list of dates.\n",
    "    \n",
    "    Args:\n",
    "        start_date (string): A date string in the format %Y-%m-%d\n",
    "        end_date (string): A date string in the format %Y-%m-%d\n",
    "        \n",
    "    Returns:\n",
    "        TMIN, TAVE, and TMAX\n",
    "    \"\"\"\n",
    "    \n",
    "    return session.query(func.min(Measurement.tobs), func.avg(Measurement.tobs), func.max(Measurement.tobs)).\\\n",
    "        filter(Measurement.date >= start_date).filter(Measurement.date <= end_date).all()\n",
    "\n",
    "# function usage example\n",
    "print(calc_temps('2012-02-28', '2012-03-05'))"
   ]
  },
  {
   "cell_type": "code",
   "execution_count": 30,
   "metadata": {},
   "outputs": [
    {
     "data": {
      "text/plain": [
       "[(62.0, 69.14285714285714, 77.0)]"
      ]
     },
     "execution_count": 30,
     "metadata": {},
     "output_type": "execute_result"
    }
   ],
   "source": [
    "# Use your previous function `calc_temps` to calculate the tmin, tavg, and tmax \n",
    "# for your trip using the previous year's data for those same dates.\n",
    "trip = calc_temps('2016-12-29', '2017-01-04')\n",
    "trip"
   ]
  },
  {
   "cell_type": "code",
   "execution_count": 31,
   "metadata": {},
   "outputs": [
    {
     "data": {
      "text/html": [
       "<div>\n",
       "<style scoped>\n",
       "    .dataframe tbody tr th:only-of-type {\n",
       "        vertical-align: middle;\n",
       "    }\n",
       "\n",
       "    .dataframe tbody tr th {\n",
       "        vertical-align: top;\n",
       "    }\n",
       "\n",
       "    .dataframe thead th {\n",
       "        text-align: right;\n",
       "    }\n",
       "</style>\n",
       "<table border=\"1\" class=\"dataframe\">\n",
       "  <thead>\n",
       "    <tr style=\"text-align: right;\">\n",
       "      <th></th>\n",
       "      <th>tmin</th>\n",
       "      <th>tavg</th>\n",
       "      <th>tmax</th>\n",
       "    </tr>\n",
       "  </thead>\n",
       "  <tbody>\n",
       "    <tr>\n",
       "      <th>0</th>\n",
       "      <td>62.0</td>\n",
       "      <td>69.142857</td>\n",
       "      <td>77.0</td>\n",
       "    </tr>\n",
       "  </tbody>\n",
       "</table>\n",
       "</div>"
      ],
      "text/plain": [
       "   tmin       tavg  tmax\n",
       "0  62.0  69.142857  77.0"
      ]
     },
     "execution_count": 31,
     "metadata": {},
     "output_type": "execute_result"
    }
   ],
   "source": [
    "df_t = pd.DataFrame(trip, columns = ['tmin', 'tavg', 'tmax'])\n",
    "df_t"
   ]
  },
  {
   "cell_type": "code",
   "execution_count": 32,
   "metadata": {},
   "outputs": [],
   "source": [
    "x = [\"Trip Temp\"]\n",
    "y = df_t['tavg']\n",
    "yerr = df_t['tmax'] - df_t['tmin']"
   ]
  },
  {
   "cell_type": "code",
   "execution_count": 33,
   "metadata": {},
   "outputs": [],
   "source": [
    "# Plot the results from your previous query as a bar chart. \n",
    "# Use \"Trip Avg Temp\" as your Title\n",
    "# Use the average temperature for the y value\n",
    "# Use the peak-to-peak (tmax-tmin) value as the y error bar (yerr)"
   ]
  },
  {
   "cell_type": "code",
   "execution_count": 37,
   "metadata": {},
   "outputs": [
    {
     "data": {
      "image/png": "[encoded data removed]",
      "text/plain": [
       "<Figure size 432x288 with 1 Axes>"
      ]
     },
     "metadata": {
      "needs_background": "light"
     },
     "output_type": "display_data"
    }
   ],
   "source": [
    "plt.bar(x, y, yerr=yerr, color=\"lightcoral\", alpha=0.75, align=\"center\")\n",
    "plt.ylim(0, 100, 20)\n",
    "plt.figsize=(3,4)\n",
    "plt.title(\"Trip Avg Temp\")\n",
    "plt.ylabel(\"Temp (F)\")\n",
    "plt.tight_layout()\n"
   ]
  },
  {
   "cell_type": "code",
   "execution_count": null,
   "metadata": {},
   "outputs": [],
   "source": [
    "# Calculate the total amount of rainfall per weather station for your trip dates using the previous year's matching dates.\n",
    "# Sort this in descending order by precipitation amount and list the station, name, latitude, longitude, and elevation"
   ]
  },
  {
   "cell_type": "markdown",
   "metadata": {},
   "source": [
    "## Optional Challenge Assignment"
   ]
  },
  {
   "cell_type": "code",
   "execution_count": null,
   "metadata": {},
   "outputs": [],
   "source": [
    "# Create a query that will calculate the daily normals \n",
    "# (i.e. the averages for tmin, tmax, and tavg for all historic data matching a specific month and day)\n",
    "\n",
    "def daily_normals(date):\n",
    "    \"\"\"Daily Normals.\n",
    "    \n",
    "    Args:\n",
    "        date (str): A date string in the format '%m-%d'\n",
    "        \n",
    "    Returns:\n",
    "        A list of tuples containing the daily normals, tmin, tavg, and tmax\n",
    "    \n",
    "    \"\"\"\n",
    "    \n",
    "    sel = [func.min(Measurement.tobs), func.avg(Measurement.tobs), func.max(Measurement.tobs)]\n",
    "    return session.query(*sel).filter(func.strftime(\"%m-%d\", Measurement.date) == date).all()\n",
    "    \n",
    "daily_normals(\"01-01\")"
   ]
  },
  {
   "cell_type": "code",
   "execution_count": null,
   "metadata": {},
   "outputs": [],
   "source": [
    "# calculate the daily normals for your trip\n",
    "# push each tuple of calculations into a list called `normals`\n",
    "\n",
    "# Set the start and end date of the trip\n",
    "\n",
    "# Use the start and end date to create a range of dates\n",
    "\n",
    "# Stip off the year and save a list of %m-%d strings\n",
    "\n",
    "# Loop through the list of %m-%d strings and calculate the normals for each date\n"
   ]
  },
  {
   "cell_type": "code",
   "execution_count": null,
   "metadata": {},
   "outputs": [],
   "source": [
    "# Load the previous query results into a Pandas DataFrame and add the `trip_dates` range as the `date` index\n"
   ]
  },
  {
   "cell_type": "code",
   "execution_count": null,
   "metadata": {},
   "outputs": [],
   "source": [
    "# Plot the daily normals as an area plot with `stacked=False`\n"
   ]
  }
 ],
 "metadata": {
  "kernel_info": {
   "name": "python3"
  },
  "kernelspec": {
   "display_name": "Python 3",
   "language": "python",
   "name": "python3"
  },
  "language_info": {
   "codemirror_mode": {
    "name": "ipython",
    "version": 3
   },
   "file_extension": ".py",
   "mimetype": "text/x-python",
   "name": "python",
   "nbconvert_exporter": "python",
   "pygments_lexer": "ipython3",
   "version": "3.7.3"
  },
  "nteract": {
   "version": "0.12.3"
  },
  "varInspector": {
   "cols": {
    "lenName": 16,
    "lenType": 16,
    "lenVar": 40
   },
   "kernels_config": {
    "python": {
     "delete_cmd_postfix": "",
     "delete_cmd_prefix": "del ",
     "library": "var_list.py",
     "varRefreshCmd": "print(var_dic_list())"
    },
    "r": {
     "delete_cmd_postfix": ") ",
     "delete_cmd_prefix": "rm(",
     "library": "var_list.r",
     "varRefreshCmd": "cat(var_dic_list()) "
    }
   },
   "types_to_exclude": [
    "module",
    "function",
    "builtin_function_or_method",
    "instance",
    "_Feature"
   ],
   "window_display": false
  }
 },
 "nbformat": 4,
 "nbformat_minor": 2
}
